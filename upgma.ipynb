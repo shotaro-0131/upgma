{
 "cells": [
  {
   "cell_type": "code",
   "execution_count": 94,
   "metadata": {},
   "outputs": [
    {
     "name": "stdout",
     "output_type": "stream",
     "text": [
      "['(((B-C,0.02)-A,0.055)-D,0.08249999999999999)']\n"
     ]
    }
   ],
   "source": [
    "import numpy as np\n",
    "import pandas as pd\n",
    "\n",
    "INF = 1000000\n",
    "\n",
    "#ラベルの付け替え(ex. (A-B,距離))\n",
    "def relabel(label, min_pair, min_value):\n",
    "    new_label = [\"(\"+label[min_pair[0]]+\"-\"+label[min_pair[1]]+ \",\" + str(min_value/2) +\")\"]\n",
    "    label = [l for i,l in enumerate(label) if not (i in min_pair)]\n",
    "    return new_label + label\n",
    "\n",
    "#行列の入れ替え(最小のセルを持つ行と列を左上に移動)\n",
    "def matrixSort(matrix, min_pair):\n",
    "    N = len(matrix)\n",
    "    tmp_matrix = [[]*N]*N\n",
    "    tmp_matrix_2 = [[]*N]*N\n",
    "    tmp_matrix[2:] = [l for i, l  in enumerate(matrix) if not i in min_pair]\n",
    "    \n",
    "    tmp_matrix[0] = matrix[min_pair[0]]\n",
    "    tmp_matrix[1] = matrix[min_pair[1]]\n",
    "    \n",
    "    matrix_2 = np.array(tmp_matrix).T.tolist()\n",
    "    tmp_matrix_2[2:] = [l for i, l  in enumerate(matrix_2) if not i in min_pair]\n",
    "    \n",
    "    tmp_matrix_2[0] = matrix_2[min_pair[0]]\n",
    "    tmp_matrix_2[1] = matrix_2[min_pair[1]]\n",
    "\n",
    "    return np.array(tmp_matrix_2).T.tolist()\n",
    "\n",
    "#次の行列を計算する\n",
    "def calcMatrix(matrix, min_pair):\n",
    "    N = len(matrix)\n",
    "    new_matrix = np.full((N-1,N-1), 0.0)\n",
    "    matrix = matrixsort(matrix, min_pair)\n",
    "    for i in range(N-1):\n",
    "        if i == 0:\n",
    "            new_matrix[0][0] = matrix[0][0]\n",
    "        else:\n",
    "            new_matrix[0][i] = 1/2*matrix[0][i+1] + 1/2*matrix[1][i+1]\n",
    "            new_matrix[i][0] = 1/2*matrix[0][i+1] + 1/2*matrix[1][i+1]\n",
    "    new_matrix[1:].T[1:] = np.array(matrix)[2:].T[2:]\n",
    "    return new_matrix.tolist()\n",
    "    \n",
    "\n",
    "def upgma(matrix, label):\n",
    "    N = len(matrix)\n",
    "    if N == 1:\n",
    "        return label\n",
    "    else:\n",
    "        min_value = INF\n",
    "        \n",
    "        for i in range(1,N):\n",
    "            for j in range(0,i):\n",
    "                if min_value > matrix[i][j]:\n",
    "                    min_value = matrix[i][j]\n",
    "                    min_pair = [j, i]\n",
    "        matrix = calcMatrix(matrix, min_pair)\n",
    "        label = relabel(label, min_pair, min_value)\n",
    "        return upgma(matrix, label)\n",
    "\n",
    "if __name__ == '__main__':\n",
    "    smatrix = pd.read_csv(\"data/sequenceMatrix.csv\")\n",
    "    label = smatrix[\"label\"].values\n",
    "    smatrix = smatrix.drop([\"label\"],axis=1).values\n",
    "    for i in range(len(label)):\n",
    "        smatrix[i][i] = INF\n",
    "    result = upgma(smatrix, label)\n",
    "    print(result)\n",
    "    \n",
    "#     render(result)"
   ]
  }
 ],
 "metadata": {
  "kernelspec": {
   "display_name": "Python 3",
   "language": "python",
   "name": "python3"
  },
  "language_info": {
   "codemirror_mode": {
    "name": "ipython",
    "version": 3
   },
   "file_extension": ".py",
   "mimetype": "text/x-python",
   "name": "python",
   "nbconvert_exporter": "python",
   "pygments_lexer": "ipython3",
   "version": "3.8.2"
  }
 },
 "nbformat": 4,
 "nbformat_minor": 4
}
